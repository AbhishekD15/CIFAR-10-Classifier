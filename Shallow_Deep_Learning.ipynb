{
 "cells": [
  {
   "cell_type": "code",
   "execution_count": 21,
   "metadata": {},
   "outputs": [],
   "source": [
    "# Simple CNN model for CIFAR-10\n",
    "import numpy\n",
    "from keras.datasets import cifar10\n",
    "from keras.models import Sequential\n",
    "from keras.layers import Dense\n",
    "from keras.layers import Dropout\n",
    "from keras.layers import Flatten\n",
    "from keras.constraints import maxnorm\n",
    "from keras.optimizers import SGD\n",
    "from keras.layers.convolutional import Conv2D\n",
    "from keras.layers.convolutional import MaxPooling2D\n",
    "from keras.utils import np_utils\n",
    "from keras import backend as K\n"
   ]
  },
  {
   "cell_type": "code",
   "execution_count": 22,
   "metadata": {},
   "outputs": [],
   "source": [
    "K.set_image_data_format('channels_first')"
   ]
  },
  {
   "cell_type": "code",
   "execution_count": 23,
   "metadata": {},
   "outputs": [],
   "source": [
    "# fix random seed for reproducibility\n",
    "seed = 7\n",
    "numpy.random.seed(seed)\n"
   ]
  },
  {
   "cell_type": "code",
   "execution_count": 24,
   "metadata": {},
   "outputs": [],
   "source": [
    "# load data\n",
    "(X_train, y_train), (X_test, y_test) = cifar10.load_data()"
   ]
  },
  {
   "cell_type": "code",
   "execution_count": 52,
   "metadata": {},
   "outputs": [
    {
     "data": {
      "text/plain": [
       "array([0., 1.], dtype=float32)"
      ]
     },
     "execution_count": 52,
     "metadata": {},
     "output_type": "execute_result"
    }
   ],
   "source": [
    "class_names = np.unique(y_train)\n",
    "class_names\n"
   ]
  },
  {
   "cell_type": "code",
   "execution_count": 25,
   "metadata": {},
   "outputs": [],
   "source": [
    "# normalize inputs from 0-255 to 0.0-1.0\n",
    "X_train = X_train.astype('float32')\n",
    "X_test = X_test.astype('float32')\n",
    "X_train = X_train / 255.0\n",
    "X_test = X_test / 255.0"
   ]
  },
  {
   "cell_type": "code",
   "execution_count": 26,
   "metadata": {},
   "outputs": [],
   "source": [
    "# one hot encode outputs\n",
    "y_train = np_utils.to_categorical(y_train)\n",
    "y_test = np_utils.to_categorical(y_test)\n",
    "num_classes = y_test.shape[1]"
   ]
  },
  {
   "cell_type": "code",
   "execution_count": 27,
   "metadata": {},
   "outputs": [],
   "source": [
    "# Create the simple model\n",
    "model = Sequential()\n",
    "model.add(Conv2D(32, (3, 3), input_shape=(3, 32, 32), padding='same', activation='relu', kernel_constraint=maxnorm(3)))\n",
    "model.add(Dropout(0.2))\n",
    "model.add(Conv2D(32, (3, 3), activation='relu', padding='same', kernel_constraint=maxnorm(3)))\n",
    "model.add(MaxPooling2D(pool_size=(2, 2)))\n",
    "model.add(Flatten())\n",
    "model.add(Dense(512, activation='relu', kernel_constraint=maxnorm(3)))\n",
    "model.add(Dropout(0.5))\n",
    "model.add(Dense(num_classes, activation='softmax'))"
   ]
  },
  {
   "cell_type": "code",
   "execution_count": 28,
   "metadata": {},
   "outputs": [
    {
     "name": "stdout",
     "output_type": "stream",
     "text": [
      "Model: \"sequential_3\"\n",
      "_________________________________________________________________\n",
      "Layer (type)                 Output Shape              Param #   \n",
      "=================================================================\n",
      "conv2d_5 (Conv2D)            (None, 32, 32, 32)        896       \n",
      "_________________________________________________________________\n",
      "dropout_5 (Dropout)          (None, 32, 32, 32)        0         \n",
      "_________________________________________________________________\n",
      "conv2d_6 (Conv2D)            (None, 32, 32, 32)        9248      \n",
      "_________________________________________________________________\n",
      "max_pooling2d_3 (MaxPooling2 (None, 32, 16, 16)        0         \n",
      "_________________________________________________________________\n",
      "flatten_3 (Flatten)          (None, 8192)              0         \n",
      "_________________________________________________________________\n",
      "dense_5 (Dense)              (None, 512)               4194816   \n",
      "_________________________________________________________________\n",
      "dropout_6 (Dropout)          (None, 512)               0         \n",
      "_________________________________________________________________\n",
      "dense_6 (Dense)              (None, 10)                5130      \n",
      "=================================================================\n",
      "Total params: 4,210,090\n",
      "Trainable params: 4,210,090\n",
      "Non-trainable params: 0\n",
      "_________________________________________________________________\n",
      "None\n"
     ]
    }
   ],
   "source": [
    "# Compile model\n",
    "epochs = 25\n",
    "lrate = 0.01\n",
    "decay = lrate/epochs\n",
    "sgd = SGD(lr=lrate, momentum=0.9, decay=decay, nesterov=False)\n",
    "model.compile(loss='categorical_crossentropy', optimizer=sgd, metrics=['accuracy'])\n",
    "print(model.summary())"
   ]
  },
  {
   "cell_type": "code",
   "execution_count": 29,
   "metadata": {},
   "outputs": [
    {
     "name": "stdout",
     "output_type": "stream",
     "text": [
      "WARNING:tensorflow:From /Users/abhishekdas/.local/lib/python3.7/site-packages/tensorflow/python/ops/math_ops.py:3066: to_int32 (from tensorflow.python.ops.math_ops) is deprecated and will be removed in a future version.\n",
      "Instructions for updating:\n",
      "Use tf.cast instead.\n",
      "Train on 50000 samples, validate on 10000 samples\n",
      "Epoch 1/25\n",
      "50000/50000 [==============================] - 120s 2ms/step - loss: 1.7209 - accuracy: 0.3741 - val_loss: 1.3383 - val_accuracy: 0.5174\n",
      "Epoch 2/25\n",
      "50000/50000 [==============================] - 121s 2ms/step - loss: 1.3260 - accuracy: 0.5249 - val_loss: 1.1757 - val_accuracy: 0.5802\n",
      "Epoch 3/25\n",
      "50000/50000 [==============================] - 120s 2ms/step - loss: 1.1425 - accuracy: 0.5958 - val_loss: 1.0642 - val_accuracy: 0.6220\n",
      "Epoch 4/25\n",
      "50000/50000 [==============================] - 123s 2ms/step - loss: 1.0153 - accuracy: 0.6399 - val_loss: 0.9882 - val_accuracy: 0.6501\n",
      "Epoch 5/25\n",
      "50000/50000 [==============================] - 126s 3ms/step - loss: 0.9194 - accuracy: 0.6743 - val_loss: 0.9606 - val_accuracy: 0.6624\n",
      "Epoch 6/25\n",
      "50000/50000 [==============================] - 128s 3ms/step - loss: 0.8329 - accuracy: 0.7043 - val_loss: 0.9330 - val_accuracy: 0.6712\n",
      "Epoch 7/25\n",
      "50000/50000 [==============================] - 118s 2ms/step - loss: 0.7595 - accuracy: 0.7324 - val_loss: 0.9040 - val_accuracy: 0.6826\n",
      "Epoch 8/25\n",
      "50000/50000 [==============================] - 122s 2ms/step - loss: 0.6962 - accuracy: 0.7556 - val_loss: 0.9029 - val_accuracy: 0.6879\n",
      "Epoch 9/25\n",
      "50000/50000 [==============================] - 120s 2ms/step - loss: 0.6397 - accuracy: 0.7756 - val_loss: 0.8998 - val_accuracy: 0.6937\n",
      "Epoch 10/25\n",
      "50000/50000 [==============================] - 121s 2ms/step - loss: 0.5839 - accuracy: 0.7947 - val_loss: 0.9067 - val_accuracy: 0.6971\n",
      "Epoch 11/25\n",
      "50000/50000 [==============================] - 121s 2ms/step - loss: 0.5357 - accuracy: 0.8106 - val_loss: 0.8978 - val_accuracy: 0.7006\n",
      "Epoch 12/25\n",
      "50000/50000 [==============================] - 118s 2ms/step - loss: 0.4941 - accuracy: 0.8257 - val_loss: 0.9264 - val_accuracy: 0.6966\n",
      "Epoch 13/25\n",
      "50000/50000 [==============================] - 122s 2ms/step - loss: 0.4567 - accuracy: 0.8391 - val_loss: 0.9414 - val_accuracy: 0.6993\n",
      "Epoch 14/25\n",
      "50000/50000 [==============================] - 119s 2ms/step - loss: 0.4223 - accuracy: 0.8494 - val_loss: 0.9388 - val_accuracy: 0.7039\n",
      "Epoch 15/25\n",
      "50000/50000 [==============================] - 122s 2ms/step - loss: 0.3946 - accuracy: 0.8603 - val_loss: 0.9449 - val_accuracy: 0.7086\n",
      "Epoch 16/25\n",
      "50000/50000 [==============================] - 121s 2ms/step - loss: 0.3662 - accuracy: 0.8718 - val_loss: 0.9581 - val_accuracy: 0.7054\n",
      "Epoch 17/25\n",
      "50000/50000 [==============================] - 123s 2ms/step - loss: 0.3432 - accuracy: 0.8787 - val_loss: 0.9709 - val_accuracy: 0.7053\n",
      "Epoch 18/25\n",
      "50000/50000 [==============================] - 125s 2ms/step - loss: 0.3152 - accuracy: 0.8901 - val_loss: 0.9858 - val_accuracy: 0.7094\n",
      "Epoch 19/25\n",
      "50000/50000 [==============================] - 121s 2ms/step - loss: 0.3000 - accuracy: 0.8944 - val_loss: 1.0044 - val_accuracy: 0.7092\n",
      "Epoch 20/25\n",
      "50000/50000 [==============================] - 120s 2ms/step - loss: 0.2828 - accuracy: 0.9025 - val_loss: 1.0106 - val_accuracy: 0.7084\n",
      "Epoch 21/25\n",
      "50000/50000 [==============================] - 129s 3ms/step - loss: 0.2646 - accuracy: 0.9074 - val_loss: 1.0310 - val_accuracy: 0.7067\n",
      "Epoch 22/25\n",
      "50000/50000 [==============================] - 126s 3ms/step - loss: 0.2502 - accuracy: 0.9143 - val_loss: 1.0409 - val_accuracy: 0.7120\n",
      "Epoch 23/25\n",
      "50000/50000 [==============================] - 125s 3ms/step - loss: 0.2343 - accuracy: 0.9193 - val_loss: 1.0548 - val_accuracy: 0.7071\n",
      "Epoch 24/25\n",
      "50000/50000 [==============================] - 127s 3ms/step - loss: 0.2258 - accuracy: 0.9226 - val_loss: 1.0463 - val_accuracy: 0.7118\n",
      "Epoch 25/25\n",
      "50000/50000 [==============================] - 125s 2ms/step - loss: 0.2185 - accuracy: 0.9237 - val_loss: 1.0645 - val_accuracy: 0.7135\n"
     ]
    },
    {
     "data": {
      "text/plain": [
       "<keras.callbacks.callbacks.History at 0x7fa7393f8310>"
      ]
     },
     "execution_count": 29,
     "metadata": {},
     "output_type": "execute_result"
    }
   ],
   "source": [
    "# Fit the model\n",
    "model.fit(X_train, y_train, validation_data=(X_test, y_test), epochs=epochs, batch_size=32)"
   ]
  },
  {
   "cell_type": "code",
   "execution_count": 58,
   "metadata": {},
   "outputs": [
    {
     "name": "stdout",
     "output_type": "stream",
     "text": [
      "Accuracy: 78.52%\n"
     ]
    }
   ],
   "source": [
    "# Final evaluation of the model\n",
    "scores = model.evaluate(X_test, y_test, verbose=0)\n",
    "print(\"Accuracy: %.2f%%\" % (scores[1]*100))"
   ]
  },
  {
   "cell_type": "code",
   "execution_count": null,
   "metadata": {},
   "outputs": [],
   "source": [
    "yPred = model.predict_classes(X_test)\n",
    "yPred_probabilities = model.predict(X_test)"
   ]
  },
  {
   "cell_type": "code",
   "execution_count": null,
   "metadata": {},
   "outputs": [],
   "source": [
    "yTest_original=np.argmax(y_test,axis=1)"
   ]
  },
  {
   "cell_type": "code",
   "execution_count": null,
   "metadata": {},
   "outputs": [],
   "source": [
    "from sklearn.metrics import classification_report,confusion_matrix\n",
    "print(\"Classification report \\n=======================\")\n",
    "print(classification_report(y_true=yTest_original, y_pred=yPred))\n",
    "print(\"Confusion matrix \\n=======================\")\n",
    "print(confusion_matrix(y_true=yTest_original, y_pred=yPred))"
   ]
  },
  {
   "cell_type": "code",
   "execution_count": 31,
   "metadata": {},
   "outputs": [],
   "source": [
    "# Create the model\n",
    "model = Sequential()\n",
    "model.add(Conv2D(32, (3, 3), input_shape=(3, 32, 32), activation='relu', padding='same'))\n",
    "model.add(Dropout(0.2))\n",
    "model.add(Conv2D(32, (3, 3), activation='relu', padding='same'))\n",
    "model.add(MaxPooling2D(pool_size=(2, 2)))\n",
    "model.add(Conv2D(64, (3, 3), activation='relu', padding='same'))\n",
    "model.add(Dropout(0.2))\n",
    "model.add(Conv2D(64, (3, 3), activation='relu', padding='same'))\n",
    "model.add(MaxPooling2D(pool_size=(2, 2)))\n",
    "model.add(Conv2D(128, (3, 3), activation='relu', padding='same'))\n",
    "model.add(Dropout(0.2))\n",
    "model.add(Conv2D(128, (3, 3), activation='relu', padding='same'))\n",
    "model.add(MaxPooling2D(pool_size=(2, 2)))\n",
    "model.add(Flatten())\n",
    "model.add(Dropout(0.2))\n",
    "model.add(Dense(1024, activation='relu', kernel_constraint=maxnorm(3)))\n",
    "model.add(Dropout(0.2))\n",
    "model.add(Dense(512, activation='relu', kernel_constraint=maxnorm(3)))\n",
    "model.add(Dropout(0.2))\n",
    "model.add(Dense(num_classes, activation='softmax'))"
   ]
  },
  {
   "cell_type": "code",
   "execution_count": 32,
   "metadata": {},
   "outputs": [
    {
     "name": "stdout",
     "output_type": "stream",
     "text": [
      "Model: \"sequential_4\"\n",
      "_________________________________________________________________\n",
      "Layer (type)                 Output Shape              Param #   \n",
      "=================================================================\n",
      "conv2d_7 (Conv2D)            (None, 32, 32, 32)        896       \n",
      "_________________________________________________________________\n",
      "dropout_7 (Dropout)          (None, 32, 32, 32)        0         \n",
      "_________________________________________________________________\n",
      "conv2d_8 (Conv2D)            (None, 32, 32, 32)        9248      \n",
      "_________________________________________________________________\n",
      "max_pooling2d_4 (MaxPooling2 (None, 32, 16, 16)        0         \n",
      "_________________________________________________________________\n",
      "conv2d_9 (Conv2D)            (None, 64, 16, 16)        18496     \n",
      "_________________________________________________________________\n",
      "dropout_8 (Dropout)          (None, 64, 16, 16)        0         \n",
      "_________________________________________________________________\n",
      "conv2d_10 (Conv2D)           (None, 64, 16, 16)        36928     \n",
      "_________________________________________________________________\n",
      "max_pooling2d_5 (MaxPooling2 (None, 64, 8, 8)          0         \n",
      "_________________________________________________________________\n",
      "conv2d_11 (Conv2D)           (None, 128, 8, 8)         73856     \n",
      "_________________________________________________________________\n",
      "dropout_9 (Dropout)          (None, 128, 8, 8)         0         \n",
      "_________________________________________________________________\n",
      "conv2d_12 (Conv2D)           (None, 128, 8, 8)         147584    \n",
      "_________________________________________________________________\n",
      "max_pooling2d_6 (MaxPooling2 (None, 128, 4, 4)         0         \n",
      "_________________________________________________________________\n",
      "flatten_4 (Flatten)          (None, 2048)              0         \n",
      "_________________________________________________________________\n",
      "dropout_10 (Dropout)         (None, 2048)              0         \n",
      "_________________________________________________________________\n",
      "dense_7 (Dense)              (None, 1024)              2098176   \n",
      "_________________________________________________________________\n",
      "dropout_11 (Dropout)         (None, 1024)              0         \n",
      "_________________________________________________________________\n",
      "dense_8 (Dense)              (None, 512)               524800    \n",
      "_________________________________________________________________\n",
      "dropout_12 (Dropout)         (None, 512)               0         \n",
      "_________________________________________________________________\n",
      "dense_9 (Dense)              (None, 10)                5130      \n",
      "=================================================================\n",
      "Total params: 2,915,114\n",
      "Trainable params: 2,915,114\n",
      "Non-trainable params: 0\n",
      "_________________________________________________________________\n",
      "None\n"
     ]
    }
   ],
   "source": [
    "# Compile model\n",
    "epochs = 25\n",
    "lrate = 0.01\n",
    "decay = lrate/epochs\n",
    "sgd = SGD(lr=lrate, momentum=0.9, decay=decay, nesterov=False)\n",
    "model.compile(loss='categorical_crossentropy', optimizer=sgd, metrics=['accuracy'])\n",
    "print(model.summary())"
   ]
  },
  {
   "cell_type": "code",
   "execution_count": 33,
   "metadata": {},
   "outputs": [
    {
     "name": "stdout",
     "output_type": "stream",
     "text": [
      "Train on 50000 samples, validate on 10000 samples\n",
      "Epoch 1/25\n",
      "50000/50000 [==============================] - 237s 5ms/step - loss: 1.9380 - accuracy: 0.2850 - val_loss: 1.6914 - val_accuracy: 0.4040\n",
      "Epoch 2/25\n",
      "50000/50000 [==============================] - 231s 5ms/step - loss: 1.4984 - accuracy: 0.4542 - val_loss: 1.3415 - val_accuracy: 0.5021\n",
      "Epoch 3/25\n",
      "50000/50000 [==============================] - 230s 5ms/step - loss: 1.2849 - accuracy: 0.5346 - val_loss: 1.2188 - val_accuracy: 0.5682\n",
      "Epoch 4/25\n",
      "50000/50000 [==============================] - 232s 5ms/step - loss: 1.1428 - accuracy: 0.5918 - val_loss: 1.0679 - val_accuracy: 0.6152\n",
      "Epoch 5/25\n",
      "50000/50000 [==============================] - 225s 5ms/step - loss: 1.0287 - accuracy: 0.6325 - val_loss: 1.0136 - val_accuracy: 0.6396\n",
      "Epoch 6/25\n",
      "50000/50000 [==============================] - 224s 4ms/step - loss: 0.9433 - accuracy: 0.6615 - val_loss: 0.9368 - val_accuracy: 0.6654\n",
      "Epoch 7/25\n",
      "50000/50000 [==============================] - 227s 5ms/step - loss: 0.8653 - accuracy: 0.6935 - val_loss: 0.8662 - val_accuracy: 0.6914\n",
      "Epoch 8/25\n",
      "50000/50000 [==============================] - 233s 5ms/step - loss: 0.8085 - accuracy: 0.7146 - val_loss: 0.8277 - val_accuracy: 0.7115\n",
      "Epoch 9/25\n",
      "50000/50000 [==============================] - 239s 5ms/step - loss: 0.7548 - accuracy: 0.7325 - val_loss: 0.7816 - val_accuracy: 0.7270\n",
      "Epoch 10/25\n",
      "50000/50000 [==============================] - 232s 5ms/step - loss: 0.7131 - accuracy: 0.7492 - val_loss: 0.7511 - val_accuracy: 0.7351\n",
      "Epoch 11/25\n",
      "50000/50000 [==============================] - 228s 5ms/step - loss: 0.6701 - accuracy: 0.7640 - val_loss: 0.7246 - val_accuracy: 0.7463\n",
      "Epoch 12/25\n",
      "50000/50000 [==============================] - 229s 5ms/step - loss: 0.6443 - accuracy: 0.7727 - val_loss: 0.7287 - val_accuracy: 0.7443\n",
      "Epoch 13/25\n",
      "50000/50000 [==============================] - 231s 5ms/step - loss: 0.6125 - accuracy: 0.7820 - val_loss: 0.7085 - val_accuracy: 0.7514\n",
      "Epoch 14/25\n",
      "50000/50000 [==============================] - 230s 5ms/step - loss: 0.5888 - accuracy: 0.7922 - val_loss: 0.6795 - val_accuracy: 0.7673\n",
      "Epoch 15/25\n",
      "50000/50000 [==============================] - 230s 5ms/step - loss: 0.5628 - accuracy: 0.8006 - val_loss: 0.7090 - val_accuracy: 0.7580\n",
      "Epoch 16/25\n",
      "50000/50000 [==============================] - 232s 5ms/step - loss: 0.5429 - accuracy: 0.8082 - val_loss: 0.6934 - val_accuracy: 0.7602\n",
      "Epoch 17/25\n",
      "50000/50000 [==============================] - 229s 5ms/step - loss: 0.5185 - accuracy: 0.8167 - val_loss: 0.6651 - val_accuracy: 0.7744\n",
      "Epoch 18/25\n",
      "50000/50000 [==============================] - 230s 5ms/step - loss: 0.5022 - accuracy: 0.8222 - val_loss: 0.6559 - val_accuracy: 0.7741\n",
      "Epoch 19/25\n",
      "50000/50000 [==============================] - 230s 5ms/step - loss: 0.4821 - accuracy: 0.8288 - val_loss: 0.6578 - val_accuracy: 0.7745\n",
      "Epoch 20/25\n",
      "50000/50000 [==============================] - 230s 5ms/step - loss: 0.4604 - accuracy: 0.8370 - val_loss: 0.6586 - val_accuracy: 0.7769\n",
      "Epoch 21/25\n",
      "50000/50000 [==============================] - 229s 5ms/step - loss: 0.4503 - accuracy: 0.8409 - val_loss: 0.6519 - val_accuracy: 0.7797\n",
      "Epoch 22/25\n",
      "50000/50000 [==============================] - 230s 5ms/step - loss: 0.4331 - accuracy: 0.8459 - val_loss: 0.6510 - val_accuracy: 0.7815\n",
      "Epoch 23/25\n",
      "50000/50000 [==============================] - 230s 5ms/step - loss: 0.4207 - accuracy: 0.8494 - val_loss: 0.6575 - val_accuracy: 0.7799\n",
      "Epoch 24/25\n",
      "50000/50000 [==============================] - 230s 5ms/step - loss: 0.4095 - accuracy: 0.8545 - val_loss: 0.6529 - val_accuracy: 0.7840\n",
      "Epoch 25/25\n",
      "50000/50000 [==============================] - 231s 5ms/step - loss: 0.3981 - accuracy: 0.8575 - val_loss: 0.6544 - val_accuracy: 0.7852\n"
     ]
    },
    {
     "data": {
      "text/plain": [
       "<keras.callbacks.callbacks.History at 0x7fa739893410>"
      ]
     },
     "execution_count": 33,
     "metadata": {},
     "output_type": "execute_result"
    }
   ],
   "source": [
    "# Fit the model\n",
    "model.fit(X_train, y_train, validation_data=(X_test, y_test), epochs=epochs, batch_size=32)"
   ]
  },
  {
   "cell_type": "code",
   "execution_count": 34,
   "metadata": {},
   "outputs": [
    {
     "name": "stdout",
     "output_type": "stream",
     "text": [
      "Accuracy: 78.52%\n"
     ]
    }
   ],
   "source": [
    "# Final evaluation of the model\n",
    "scores = model.evaluate(X_test, y_test, verbose=0)\n",
    "print(\"Accuracy: %.2f%%\" % (scores[1]*100))"
   ]
  },
  {
   "cell_type": "code",
   "execution_count": 38,
   "metadata": {},
   "outputs": [],
   "source": [
    "yPred = model.predict_classes(X_test)\n",
    "yPred_probabilities = model.predict(X_test)"
   ]
  },
  {
   "cell_type": "code",
   "execution_count": 39,
   "metadata": {},
   "outputs": [
    {
     "data": {
      "text/plain": [
       "array([3, 8, 8, ..., 5, 1, 7])"
      ]
     },
     "execution_count": 39,
     "metadata": {},
     "output_type": "execute_result"
    }
   ],
   "source": [
    "yPred"
   ]
  },
  {
   "cell_type": "code",
   "execution_count": 40,
   "metadata": {},
   "outputs": [
    {
     "data": {
      "text/plain": [
       "array([[1.3586065e-04, 2.0894799e-05, 2.2023567e-04, ..., 1.1583920e-04,\n",
       "        7.7136373e-04, 1.3461304e-05],\n",
       "       [2.0752572e-04, 6.5160091e-03, 1.9402671e-09, ..., 3.3475975e-10,\n",
       "        9.9320614e-01, 7.0281778e-05],\n",
       "       [8.2484365e-02, 1.9813869e-03, 2.3867502e-05, ..., 6.1286119e-06,\n",
       "        9.1310012e-01, 2.3144595e-03],\n",
       "       ...,\n",
       "       [3.9346023e-07, 3.8494345e-08, 1.0899178e-03, ..., 1.6340257e-03,\n",
       "        1.4877384e-06, 6.0927414e-07],\n",
       "       [5.0838362e-02, 9.4010091e-01, 1.3615952e-04, ..., 1.1152251e-05,\n",
       "        8.8631251e-04, 8.2720275e-04],\n",
       "       [2.1346890e-10, 6.9152475e-13, 6.2831397e-08, ..., 9.9874049e-01,\n",
       "        1.0427418e-11, 1.6343730e-11]], dtype=float32)"
      ]
     },
     "execution_count": 40,
     "metadata": {},
     "output_type": "execute_result"
    }
   ],
   "source": [
    "yPred_probabilities"
   ]
  },
  {
   "cell_type": "code",
   "execution_count": 42,
   "metadata": {},
   "outputs": [],
   "source": [
    "import numpy as np"
   ]
  },
  {
   "cell_type": "code",
   "execution_count": 43,
   "metadata": {},
   "outputs": [],
   "source": [
    "yTest_original=np.argmax(y_test,axis=1)"
   ]
  },
  {
   "cell_type": "code",
   "execution_count": 44,
   "metadata": {},
   "outputs": [
    {
     "data": {
      "text/plain": [
       "array([3, 8, 8, ..., 5, 1, 7])"
      ]
     },
     "execution_count": 44,
     "metadata": {},
     "output_type": "execute_result"
    }
   ],
   "source": [
    "yTest_original"
   ]
  },
  {
   "cell_type": "code",
   "execution_count": 45,
   "metadata": {},
   "outputs": [
    {
     "name": "stdout",
     "output_type": "stream",
     "text": [
      "Classification report \n",
      "=======================\n",
      "              precision    recall  f1-score   support\n",
      "\n",
      "           0       0.80      0.83      0.81      1000\n",
      "           1       0.91      0.87      0.89      1000\n",
      "           2       0.77      0.66      0.71      1000\n",
      "           3       0.58      0.64      0.61      1000\n",
      "           4       0.73      0.77      0.75      1000\n",
      "           5       0.73      0.68      0.70      1000\n",
      "           6       0.86      0.82      0.84      1000\n",
      "           7       0.84      0.82      0.83      1000\n",
      "           8       0.81      0.92      0.86      1000\n",
      "           9       0.85      0.85      0.85      1000\n",
      "\n",
      "    accuracy                           0.79     10000\n",
      "   macro avg       0.79      0.79      0.79     10000\n",
      "weighted avg       0.79      0.79      0.79     10000\n",
      "\n",
      "Confusion matrix \n",
      "=======================\n",
      "[[826  13  23  10  14   4   1   5  75  29]\n",
      " [ 12 870   2   7   2   2   3   1  34  67]\n",
      " [ 65   4 657  65  78  38  48  21  17   7]\n",
      " [ 18   4  46 639  59 129  45  30  15  15]\n",
      " [ 22   4  45  67 774  19  20  39   8   2]\n",
      " [ 13   1  19 187  45 675  13  37   7   3]\n",
      " [  8   1  31  60  34  20 825   7  11   3]\n",
      " [ 11   2  20  39  55  37   4 818   6   8]\n",
      " [ 30  10   5  13   3   2   3   3 916  15]\n",
      " [ 28  50   5   9   0   5   2  12  37 852]]\n"
     ]
    }
   ],
   "source": [
    "from sklearn.metrics import classification_report,confusion_matrix\n",
    "print(\"Classification report \\n=======================\")\n",
    "print(classification_report(y_true=yTest_original, y_pred=yPred))\n",
    "print(\"Confusion matrix \\n=======================\")\n",
    "print(confusion_matrix(y_true=yTest_original, y_pred=yPred))"
   ]
  },
  {
   "cell_type": "code",
   "execution_count": 48,
   "metadata": {},
   "outputs": [],
   "source": [
    "import matplotlib.pyplot as plt\n",
    "import itertools\n",
    "def plot_confusion_matrix(cm, classes,normalize=False,title='Confusion matrix',cmap=plt.cm.Blues):\n",
    "    if normalize:\n",
    "        cm = cm.astype('float') / cm.sum(axis=1)[:, np.newaxis]\n",
    "        print(\"Normalized confusion matrix\\n============================\")\n",
    "    else:\n",
    "        print('Confusion matrix, without normalization\\n============================')\n",
    "    print(cm)\n",
    "    print(\"\\n\")\n",
    "    plt.imshow(cm, interpolation='nearest', cmap=cmap)\n",
    "    plt.title(title)\n",
    "    plt.colorbar()\n",
    "    tick_marks = np.arange(len(classes))\n",
    "    plt.xticks(tick_marks, classes, rotation=45)\n",
    "    plt.yticks(tick_marks, classes)\n",
    "    fmt = '.2f' if normalize else 'd'\n",
    "    thresh = cm.max() / 2.\n",
    "    for i, j in itertools.product(range(cm.shape[0]), range(cm.shape[1])):\n",
    "        plt.text(j, i, format(cm[i, j], fmt),horizontalalignment=\"center\",color=\"white\" if cm[i, j] > thresh else \"black\")\n",
    "    plt.tight_layout()"
   ]
  },
  {
   "cell_type": "code",
   "execution_count": 49,
   "metadata": {},
   "outputs": [],
   "source": [
    "# Compute confusion matrix\n",
    "cnf_matrix = confusion_matrix(y_true=yTest_original, y_pred=yPred)\n",
    "np.set_printoptions(precision=2)"
   ]
  },
  {
   "cell_type": "code",
   "execution_count": 53,
   "metadata": {},
   "outputs": [
    {
     "name": "stdout",
     "output_type": "stream",
     "text": [
      "Confusion matrix, without normalization\n",
      "============================\n",
      "[[826  13  23  10  14   4   1   5  75  29]\n",
      " [ 12 870   2   7   2   2   3   1  34  67]\n",
      " [ 65   4 657  65  78  38  48  21  17   7]\n",
      " [ 18   4  46 639  59 129  45  30  15  15]\n",
      " [ 22   4  45  67 774  19  20  39   8   2]\n",
      " [ 13   1  19 187  45 675  13  37   7   3]\n",
      " [  8   1  31  60  34  20 825   7  11   3]\n",
      " [ 11   2  20  39  55  37   4 818   6   8]\n",
      " [ 30  10   5  13   3   2   3   3 916  15]\n",
      " [ 28  50   5   9   0   5   2  12  37 852]]\n",
      "\n",
      "\n"
     ]
    },
    {
     "data": {
      "image/png": "[encoded data removed]",
      "text/plain": [
       "<Figure size 432x288 with 2 Axes>"
      ]
     },
     "metadata": {
      "needs_background": "light"
     },
     "output_type": "display_data"
    }
   ],
   "source": [
    "# Plot non-normalized confusion matrix\n",
    "plt.figure()\n",
    "plot_confusion_matrix(cnf_matrix, classes=class_names,\n",
    "title='Confusion matrix, without normalization')"
   ]
  },
  {
   "cell_type": "code",
   "execution_count": 54,
   "metadata": {},
   "outputs": [
    {
     "name": "stdout",
     "output_type": "stream",
     "text": [
      "Normalized confusion matrix\n",
      "============================\n",
      "[[0.83 0.01 0.02 0.01 0.01 0.   0.   0.01 0.07 0.03]\n",
      " [0.01 0.87 0.   0.01 0.   0.   0.   0.   0.03 0.07]\n",
      " [0.07 0.   0.66 0.07 0.08 0.04 0.05 0.02 0.02 0.01]\n",
      " [0.02 0.   0.05 0.64 0.06 0.13 0.04 0.03 0.01 0.01]\n",
      " [0.02 0.   0.04 0.07 0.77 0.02 0.02 0.04 0.01 0.  ]\n",
      " [0.01 0.   0.02 0.19 0.04 0.68 0.01 0.04 0.01 0.  ]\n",
      " [0.01 0.   0.03 0.06 0.03 0.02 0.82 0.01 0.01 0.  ]\n",
      " [0.01 0.   0.02 0.04 0.06 0.04 0.   0.82 0.01 0.01]\n",
      " [0.03 0.01 0.01 0.01 0.   0.   0.   0.   0.92 0.01]\n",
      " [0.03 0.05 0.01 0.01 0.   0.01 0.   0.01 0.04 0.85]]\n",
      "\n",
      "\n"
     ]
    },
    {
     "data": {
      "image/png": "[encoded data removed]",
      "text/plain": [
       "<Figure size 432x288 with 2 Axes>"
      ]
     },
     "metadata": {
      "needs_background": "light"
     },
     "output_type": "display_data"
    }
   ],
   "source": [
    "# Plot normalized confusion matrix\n",
    "plt.figure()\n",
    "plot_confusion_matrix(cnf_matrix, classes=class_names, normalize=True,\n",
    "title='Normalized confusion matrix')\n",
    "plt.show()"
   ]
  },
  {
   "cell_type": "code",
   "execution_count": null,
   "metadata": {},
   "outputs": [],
   "source": []
  }
 ],
 "metadata": {
  "kernelspec": {
   "display_name": "Python 3",
   "language": "python",
   "name": "python3"
  },
  "language_info": {
   "codemirror_mode": {
    "name": "ipython",
    "version": 3
   },
   "file_extension": ".py",
   "mimetype": "text/x-python",
   "name": "python",
   "nbconvert_exporter": "python",
   "pygments_lexer": "ipython3",
   "version": "3.7.6"
  }
 },
 "nbformat": 4,
 "nbformat_minor": 4
}
